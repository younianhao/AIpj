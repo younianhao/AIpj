{
  "nbformat": 4,
  "nbformat_minor": 0,
  "metadata": {
    "colab": {
      "provenance": [],
      "gpuType": "T4"
    },
    "kernelspec": {
      "name": "python3",
      "display_name": "Python 3"
    },
    "language_info": {
      "name": "python"
    },
    "accelerator": "GPU"
  },
  "cells": [
    {
      "cell_type": "code",
      "execution_count": null,
      "metadata": {
        "id": "uFBbtFMmY5ur"
      },
      "outputs": [],
      "source": [
        "! git clone https://github.com/AI-FDU/ai-fdu.github.io.git"
      ]
    },
    {
      "cell_type": "code",
      "source": [
        "%cd ai-fdu.github.io/pj3\n",
        "%mkdir model"
      ],
      "metadata": {
        "id": "RXaqob53Zr0H"
      },
      "execution_count": null,
      "outputs": []
    },
    {
      "cell_type": "code",
      "source": [
        "! python train.py"
      ],
      "metadata": {
        "id": "8jz2FHVmZ7tP"
      },
      "execution_count": null,
      "outputs": []
    },
    {
      "cell_type": "code",
      "source": [
        "! python test.py > ans.txt"
      ],
      "metadata": {
        "id": "CGfWRh8-egxl"
      },
      "execution_count": null,
      "outputs": []
    }
  ]
}