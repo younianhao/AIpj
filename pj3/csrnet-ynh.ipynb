{
  "cells": [
    {
      "cell_type": "code",
      "execution_count": null,
      "metadata": {
        "id": "uFBbtFMmY5ur"
      },
      "outputs": [],
      "source": [
        "! git clone https://github.com/younianhao/AIpj.git"
      ]
    },
    {
      "cell_type": "code",
      "execution_count": 2,
      "metadata": {
        "id": "RXaqob53Zr0H"
      },
      "outputs": [
        {
          "name": "stdout",
          "output_type": "stream",
          "text": [
            "[WinError 3] 系统找不到指定的路径。: 'ai-fdu.github.io/pj3'\n",
            "c:\\Users\\Oops.LAPTOP-VUV0D0FL\\Desktop\\人工智能\\AIpj\\pj3\n"
          ]
        },
        {
          "name": "stderr",
          "output_type": "stream",
          "text": [
            "��Ŀ¼���ļ� model �Ѿ����ڡ�\n"
          ]
        }
      ],
      "source": [
        "!python dataAugment/dataClear.py\n",
        "!python dataAugment/dataRotate.py\n",
        "!python dataAugment/dataCrop.py\n",
        "!python dataAugment/dataAddNoise.py\n",
        "!python dataAugment/dataCombine.py"
      ]
    },
    {
      "cell_type": "code",
      "execution_count": 5,
      "metadata": {
        "id": "8jz2FHVmZ7tP"
      },
      "outputs": [
        {
          "name": "stderr",
          "output_type": "stream",
          "text": [
            "C:\\Users\\Oops.LAPTOP-VUV0D0FL\\AppData\\Roaming\\Python\\Python311\\site-packages\\torchvision\\models\\_utils.py:208: UserWarning: The parameter 'pretrained' is deprecated since 0.13 and may be removed in the future, please use 'weights' instead.\n",
            "  warnings.warn(\n",
            "C:\\Users\\Oops.LAPTOP-VUV0D0FL\\AppData\\Roaming\\Python\\Python311\\site-packages\\torchvision\\models\\_utils.py:223: UserWarning: Arguments other than a weight enum or `None` for 'weights' are deprecated since 0.13 and may be removed in the future. The current behavior is equivalent to passing `weights=VGG16_Weights.IMAGENET1K_V1`. You can also use `weights=VGG16_Weights.DEFAULT` to get the most up-to-date weights.\n",
            "  warnings.warn(msg)\n",
            "Traceback (most recent call last):\n",
            "  File \"c:\\Users\\Oops.LAPTOP-VUV0D0FL\\Desktop\\人工智能\\AIpj\\pj3\\train.py\", line 251, in <module>\n",
            "    main()\n",
            "  File \"c:\\Users\\Oops.LAPTOP-VUV0D0FL\\Desktop\\人工智能\\AIpj\\pj3\\train.py\", line 93, in main\n",
            "    model = model.cuda()\n",
            "            ^^^^^^^^^^^^\n",
            "  File \"C:\\Users\\Oops.LAPTOP-VUV0D0FL\\AppData\\Roaming\\Python\\Python311\\site-packages\\torch\\nn\\modules\\module.py\", line 911, in cuda\n",
            "    return self._apply(lambda t: t.cuda(device))\n",
            "           ^^^^^^^^^^^^^^^^^^^^^^^^^^^^^^^^^^^^^\n",
            "  File \"C:\\Users\\Oops.LAPTOP-VUV0D0FL\\AppData\\Roaming\\Python\\Python311\\site-packages\\torch\\nn\\modules\\module.py\", line 802, in _apply\n",
            "    module._apply(fn)\n",
            "  File \"C:\\Users\\Oops.LAPTOP-VUV0D0FL\\AppData\\Roaming\\Python\\Python311\\site-packages\\torch\\nn\\modules\\module.py\", line 802, in _apply\n",
            "    module._apply(fn)\n",
            "  File \"C:\\Users\\Oops.LAPTOP-VUV0D0FL\\AppData\\Roaming\\Python\\Python311\\site-packages\\torch\\nn\\modules\\module.py\", line 825, in _apply\n",
            "    param_applied = fn(param)\n",
            "                    ^^^^^^^^^\n",
            "  File \"C:\\Users\\Oops.LAPTOP-VUV0D0FL\\AppData\\Roaming\\Python\\Python311\\site-packages\\torch\\nn\\modules\\module.py\", line 911, in <lambda>\n",
            "    return self._apply(lambda t: t.cuda(device))\n",
            "                                 ^^^^^^^^^^^^^^\n",
            "  File \"C:\\Users\\Oops.LAPTOP-VUV0D0FL\\AppData\\Roaming\\Python\\Python311\\site-packages\\torch\\cuda\\__init__.py\", line 293, in _lazy_init\n",
            "    raise AssertionError(\"Torch not compiled with CUDA enabled\")\n",
            "AssertionError: Torch not compiled with CUDA enabled\n"
          ]
        }
      ],
      "source": [
        "! python train.py"
      ]
    },
    {
      "cell_type": "code",
      "execution_count": 3,
      "metadata": {
        "id": "CGfWRh8-egxl"
      },
      "outputs": [
        {
          "name": "stdout",
          "output_type": "stream",
          "text": [
            "^C\n"
          ]
        }
      ],
      "source": [
        "! python test.py > ans.txt"
      ]
    }
  ],
  "metadata": {
    "accelerator": "GPU",
    "colab": {
      "gpuType": "T4",
      "provenance": []
    },
    "kernelspec": {
      "display_name": "Python 3",
      "name": "python3"
    },
    "language_info": {
      "codemirror_mode": {
        "name": "ipython",
        "version": 3
      },
      "file_extension": ".py",
      "mimetype": "text/x-python",
      "name": "python",
      "nbconvert_exporter": "python",
      "pygments_lexer": "ipython3",
      "version": "3.11.1"
    }
  },
  "nbformat": 4,
  "nbformat_minor": 0
}
